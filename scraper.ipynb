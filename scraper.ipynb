{
 "cells": [
  {
   "cell_type": "code",
   "execution_count": 34,
   "metadata": {},
   "outputs": [],
   "source": [
    "from bs4 import BeautifulSoup\n",
    "import requests\n",
    "import pandas as pd\n",
    "import schedule\n",
    "import time"
   ]
  },
  {
   "cell_type": "code",
   "execution_count": 35,
   "metadata": {},
   "outputs": [],
   "source": [
    "def get_title(soup):\n",
    "  try:\n",
    "    title = soup.find(\"span\",attrs={\"id\":\"productTitle\"})\n",
    "    title_value = title.text # content inside span tag\n",
    "    title_string = title_value.strip()\n",
    "\n",
    "  except AttributeError:\n",
    "    title_string = \"\"\n",
    "  \n",
    "  return title_string"
   ]
  },
  {
   "cell_type": "code",
   "execution_count": 36,
   "metadata": {},
   "outputs": [],
   "source": [
    "def get_price(soup):\n",
    "    try:\n",
    "        price = soup.find(\"span\", attrs={\"class\": \"a-price-whole\"}).text.strip()[:-1]\n",
    "        # remove the comma from the price\n",
    "        price = price.replace(\",\", \"\")\n",
    "    except:\n",
    "        price = \"\"\n",
    "    return price\n"
   ]
  },
  {
   "cell_type": "code",
   "execution_count": 37,
   "metadata": {},
   "outputs": [],
   "source": [
    "def get_discount(soup):\n",
    "    try:\n",
    "        discount = soup.find(\"span\", attrs={\"class\": \"a-size-large a-color-price savingPriceOverride aok-align-center reinventPriceSavingsPercentageMargin savingsPercentage\"}).text.strip()[1:-1]\n",
    "    except:\n",
    "        discount = \"\"\n",
    "    return discount\n"
   ]
  },
  {
   "cell_type": "code",
   "execution_count": 38,
   "metadata": {},
   "outputs": [],
   "source": [
    "def get_rating(soup):\n",
    "  try:\n",
    "        rating = soup.find(\"span\", attrs={\"class\": \"a-icon-alt\"}).text[:3]\n",
    "  except:\n",
    "        rating = \"\"\n",
    "  return rating"
   ]
  },
  {
   "cell_type": "code",
   "execution_count": 39,
   "metadata": {},
   "outputs": [],
   "source": [
    "def get_review(soup):\n",
    "    try:\n",
    "        review_div = soup.find(\"div\", class_=\"a-expander-content reviewText review-text-content a-expander-partial-collapse-content\")\n",
    "        if review_div:\n",
    "            review_span = review_div.find(\"span\")\n",
    "            if review_span:\n",
    "                review = review_span.get_text(strip=True)\n",
    "                return review\n",
    "    except:\n",
    "        return \"\"\n"
   ]
  },
  {
   "cell_type": "code",
   "execution_count": 40,
   "metadata": {},
   "outputs": [],
   "source": [
    "HEADERS = ({'User-agent':'Mozilla/5.0 (Windows NT 10.0; Win64; x64) AppleWebKit/537.36 (KHTML, like Gecko) Chrome/131.0.0.0 Safari/537.36','Accept-Language': 'en-US, en;q=0.5'})\n"
   ]
  },
  {
   "cell_type": "code",
   "execution_count": 41,
   "metadata": {},
   "outputs": [],
   "source": [
    "URLS = {\n",
    "    \"boAt Rockerz 255\" : \"https://www.amazon.in/boAt-Rockerz-255-Pro-Earphones/dp/B08TV2P1N8\",\n",
    "    \"Oneplus Bullets Z2\": \"https://www.amazon.in/Oneplus-Bluetooth-Wireless-Earphones-Bombastic/dp/B09TVVGXWS/ref=sr_1_3?crid=1AD2BORMPFJHA&dib=eyJ2IjoiMSJ9.TCdYft94Omg-JxhEPSoOK2Y1bkzd6rS6K4SeCeQxH6p4Y9H8OcZ7iiZn7LK2LoClTDcKFcV5h3vCzYzLBd0VsFgdWJiPtOMuIzmHjOnNPZNxPbKA0sSxX1hjONJBqaEKzcFGKE0hmaFXmbr0aQ4igAuxXgXGTggmD0CY5IdJNIriYxcdTvEi55HTyBJg6O4Jz9wWEpG6N6TFh-R0tHdqW3fEMnWuDI8ldew88aJnEeY.gj-XLLo5c1Q5ukdSAiIzaDoFpVQBU-N3xbQOirwPxGg&dib_tag=se&keywords=bluetooth%2Bearphones%2Bwired&qid=1737911857&sprefix=bluetooth%2Bearphones%2Bwire%2Caps%2C270&sr=8-3&th=1\",\n",
    "    \"Realme Buds Wireless 3 Neo\":\"https://www.amazon.in/realme-Buds-Wireless-Bluetooth-Resistannt/dp/B0D3HT2S1M/ref=sr_1_10?crid=1AD2BORMPFJHA&dib=eyJ2IjoiMSJ9.TCdYft94Omg-JxhEPSoOK2Y1bkzd6rS6K4SeCeQxH6p4Y9H8OcZ7iiZn7LK2LoClTDcKFcV5h3vCzYzLBd0VsFgdWJiPtOMuIzmHjOnNPZNxPbKA0sSxX1hjONJBqaEKzcFGKE0hmaFXmbr0aQ4igAuxXgXGTggmD0CY5IdJNIriYxcdTvEi55HTyBJg6O4Jz9wWEpG6N6TFh-R0tHdqW3fEMnWuDI8ldew88aJnEeY.gj-XLLo5c1Q5ukdSAiIzaDoFpVQBU-N3xbQOirwPxGg&dib_tag=se&keywords=bluetooth%2Bearphones%2Bwired&qid=1737911857&sprefix=bluetooth%2Bearphones%2Bwire%2Caps%2C270&sr=8-10&th=1\",\n",
    "    \"JBL Tune 215BT\":\"https://www.amazon.in/JBL-Playtime-Bluetooth-Earphones-Assistant/dp/B08FB2LNSZ/ref=sr_1_18?crid=1AD2BORMPFJHA&dib=eyJ2IjoiMSJ9.TCdYft94Omg-JxhEPSoOK2Y1bkzd6rS6K4SeCeQxH6p4Y9H8OcZ7iiZn7LK2LoClTDcKFcV5h3vCzYzLBd0VsFgdWJiPtOMuIzmHjOnNPZNxPbKA0sSxX1hjONJBqaEKzcFGKE0hmaFXmbr0aQ4igAuxXgXGTggmD0CY5IdJNIriYxcdTvEi55HTyBJg6O4Jz9wWEpG6N6TFh-R0tHdqW3fEMnWuDI8ldew88aJnEeY.gj-XLLo5c1Q5ukdSAiIzaDoFpVQBU-N3xbQOirwPxGg&dib_tag=se&keywords=bluetooth%2Bearphones%2Bwired&qid=1737911857&sprefix=bluetooth%2Bearphones%2Bwire%2Caps%2C270&sr=8-18&th=1\"\n",
    "\n",
    "    }"
   ]
  },
  {
   "cell_type": "code",
   "execution_count": 42,
   "metadata": {},
   "outputs": [],
   "source": [
    "# Scrape Price, Discount, Rating, Review for each product"
   ]
  },
  {
   "cell_type": "code",
   "execution_count": 43,
   "metadata": {},
   "outputs": [],
   "source": [
    "# Dataframe to store the scraped data - Product_name, Price, Discount, Date \n",
    "competitor_data_today = pd.DataFrame(columns=[\"Product_name\", \"Price\", \"Date\"])\n"
   ]
  },
  {
   "cell_type": "code",
   "execution_count": 44,
   "metadata": {},
   "outputs": [],
   "source": [
    "# Create review dataframe\n",
    "# reviews_today = product_name, review\n",
    "reviews_today = pd.DataFrame(columns=[\"Product_name\", \"Review\"])"
   ]
  },
  {
   "cell_type": "code",
   "execution_count": 45,
   "metadata": {},
   "outputs": [],
   "source": [
    "for product, url in URLS.items():\n",
    "    # create a dictionary to store the data\n",
    "    competitor_data = {\"Product_name\": [], \"Price\": [], \"Discount\": [], \"Date\": time.strftime(\"%Y-%m-%d\")}\n",
    "    reviews_data = {\"Product_name\": [], \"Review\": []}\n",
    "    # get the page content\n",
    "    page = requests.get(url, headers=HEADERS)\n",
    "    # create a BeautifulSoup object\n",
    "    soup = BeautifulSoup(page.content, \"html.parser\")\n",
    "    # get the title\n",
    "    title = get_title(soup)\n",
    "    # get the price\n",
    "    price = get_price(soup)\n",
    "    # get the discount\n",
    "    discount = get_discount(soup)\n",
    "    # get the review\n",
    "    review = get_review(soup)\n",
    "    # store the data in the dictionary\n",
    "    # competitor_data[\"Product_name\"].append(title)\n",
    "    competitor_data[\"Product_name\"].append(product)\n",
    "    competitor_data[\"Price\"].append(price)\n",
    "    competitor_data[\"Discount\"].append(discount)\n",
    "\n",
    "    # Add the data to the dataframe\n",
    "    competitor_data_today = pd.concat([competitor_data_today, pd.DataFrame(competitor_data)])\n",
    "\n",
    "    # store the review data in the dictionary\n",
    "    reviews_data[\"Product_name\"].append(product)\n",
    "    reviews_data[\"Review\"].append(review)\n",
    "\n",
    "    # Add the review data to the dataframe\n",
    "    reviews_today = pd.concat([reviews_today, pd.DataFrame(reviews_data)])\n",
    "    \n"
   ]
  },
  {
   "cell_type": "code",
   "execution_count": 46,
   "metadata": {},
   "outputs": [
    {
     "data": {
      "text/html": [
       "<div>\n",
       "<style scoped>\n",
       "    .dataframe tbody tr th:only-of-type {\n",
       "        vertical-align: middle;\n",
       "    }\n",
       "\n",
       "    .dataframe tbody tr th {\n",
       "        vertical-align: top;\n",
       "    }\n",
       "\n",
       "    .dataframe thead th {\n",
       "        text-align: right;\n",
       "    }\n",
       "</style>\n",
       "<table border=\"1\" class=\"dataframe\">\n",
       "  <thead>\n",
       "    <tr style=\"text-align: right;\">\n",
       "      <th></th>\n",
       "      <th>Product_name</th>\n",
       "      <th>Price</th>\n",
       "      <th>Date</th>\n",
       "      <th>Discount</th>\n",
       "    </tr>\n",
       "  </thead>\n",
       "  <tbody>\n",
       "    <tr>\n",
       "      <th>0</th>\n",
       "      <td>boAt Rockerz 255</td>\n",
       "      <td>998</td>\n",
       "      <td>2025-01-26</td>\n",
       "      <td>75</td>\n",
       "    </tr>\n",
       "    <tr>\n",
       "      <th>0</th>\n",
       "      <td>Oneplus Bullets Z2</td>\n",
       "      <td>1299</td>\n",
       "      <td>2025-01-26</td>\n",
       "      <td>43</td>\n",
       "    </tr>\n",
       "    <tr>\n",
       "      <th>0</th>\n",
       "      <td>Realme Buds Wireless 3 Neo</td>\n",
       "      <td>1099</td>\n",
       "      <td>2025-01-26</td>\n",
       "      <td>56</td>\n",
       "    </tr>\n",
       "    <tr>\n",
       "      <th>0</th>\n",
       "      <td>JBL Tune 215BT</td>\n",
       "      <td>1599</td>\n",
       "      <td>2025-01-26</td>\n",
       "      <td>47</td>\n",
       "    </tr>\n",
       "  </tbody>\n",
       "</table>\n",
       "</div>"
      ],
      "text/plain": [
       "                 Product_name Price        Date Discount\n",
       "0            boAt Rockerz 255   998  2025-01-26       75\n",
       "0          Oneplus Bullets Z2  1299  2025-01-26       43\n",
       "0  Realme Buds Wireless 3 Neo  1099  2025-01-26       56\n",
       "0              JBL Tune 215BT  1599  2025-01-26       47"
      ]
     },
     "execution_count": 46,
     "metadata": {},
     "output_type": "execute_result"
    }
   ],
   "source": [
    "competitor_data_today"
   ]
  },
  {
   "cell_type": "code",
   "execution_count": 50,
   "metadata": {},
   "outputs": [
    {
     "data": {
      "text/html": [
       "<div>\n",
       "<style scoped>\n",
       "    .dataframe tbody tr th:only-of-type {\n",
       "        vertical-align: middle;\n",
       "    }\n",
       "\n",
       "    .dataframe tbody tr th {\n",
       "        vertical-align: top;\n",
       "    }\n",
       "\n",
       "    .dataframe thead th {\n",
       "        text-align: right;\n",
       "    }\n",
       "</style>\n",
       "<table border=\"1\" class=\"dataframe\">\n",
       "  <thead>\n",
       "    <tr style=\"text-align: right;\">\n",
       "      <th></th>\n",
       "      <th>Product_name</th>\n",
       "      <th>Review</th>\n",
       "    </tr>\n",
       "  </thead>\n",
       "  <tbody>\n",
       "    <tr>\n",
       "      <th>0</th>\n",
       "      <td>boAt Rockerz 255</td>\n",
       "      <td>I am an earphone addict. I think I am eligible...</td>\n",
       "    </tr>\n",
       "    <tr>\n",
       "      <th>0</th>\n",
       "      <td>Oneplus Bullets Z2</td>\n",
       "      <td>If you're on the lookout for a solid pair of w...</td>\n",
       "    </tr>\n",
       "    <tr>\n",
       "      <th>0</th>\n",
       "      <td>Realme Buds Wireless 3 Neo</td>\n",
       "      <td>Ok so this is the review after a day of usage ...</td>\n",
       "    </tr>\n",
       "    <tr>\n",
       "      <th>0</th>\n",
       "      <td>JBL Tune 215BT</td>\n",
       "      <td>Highly Recommended! Over the past 2 years, I h...</td>\n",
       "    </tr>\n",
       "  </tbody>\n",
       "</table>\n",
       "</div>"
      ],
      "text/plain": [
       "                 Product_name  \\\n",
       "0            boAt Rockerz 255   \n",
       "0          Oneplus Bullets Z2   \n",
       "0  Realme Buds Wireless 3 Neo   \n",
       "0              JBL Tune 215BT   \n",
       "\n",
       "                                              Review  \n",
       "0  I am an earphone addict. I think I am eligible...  \n",
       "0  If you're on the lookout for a solid pair of w...  \n",
       "0  Ok so this is the review after a day of usage ...  \n",
       "0  Highly Recommended! Over the past 2 years, I h...  "
      ]
     },
     "execution_count": 50,
     "metadata": {},
     "output_type": "execute_result"
    }
   ],
   "source": [
    "reviews_today"
   ]
  },
  {
   "cell_type": "code",
   "execution_count": 51,
   "metadata": {},
   "outputs": [],
   "source": [
    "# Save the data to a CSV file with today's date\n",
    "today = time.strftime(\"%Y-%m-%d\")\n",
    "competitor_data_today.to_csv(f\"competitor_data_{today}.csv\", index=False)\n"
   ]
  },
  {
   "cell_type": "code",
   "execution_count": 52,
   "metadata": {},
   "outputs": [],
   "source": [
    "# Save the review data to a CSV file with today's date\n",
    "reviews_today.to_csv(f\"reviews_data_{today}.csv\", index=False)"
   ]
  },
  {
   "cell_type": "code",
   "execution_count": null,
   "metadata": {},
   "outputs": [],
   "source": []
  }
 ],
 "metadata": {
  "kernelspec": {
   "display_name": "base",
   "language": "python",
   "name": "python3"
  },
  "language_info": {
   "codemirror_mode": {
    "name": "ipython",
    "version": 3
   },
   "file_extension": ".py",
   "mimetype": "text/x-python",
   "name": "python",
   "nbconvert_exporter": "python",
   "pygments_lexer": "ipython3",
   "version": "3.11.4"
  }
 },
 "nbformat": 4,
 "nbformat_minor": 2
}
